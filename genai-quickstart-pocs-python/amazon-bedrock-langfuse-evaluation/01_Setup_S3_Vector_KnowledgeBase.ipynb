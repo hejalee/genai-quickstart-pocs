{
 "cells": [
  {
   "cell_type": "markdown",
   "metadata": {},
   "source": [
    "# Create S3 Vector KnowledgeBase containing 10-K SEC Filings"
   ]
  },
  {
   "cell_type": "markdown",
   "metadata": {},
   "source": [
    "### Overview\n",
    "\n",
    "In the notepad we will rin through the steps of setting up an S3 Vector KnowledgeBase using S3 Vector buckets and Amazon Bedrock KnowledgeBases. \n",
    "\n",
    "First we will create the Amazon S3 Vector Bucket, then we will create the Amazon S3 Vector KnowledgeBase using the Vector Bucket. Once this is created we can populate the S3 bucket with 10-k documents that can be downloaded from https://sec-api.io/, or you can use the sample 10-ks provided. \n",
    "\n",
    "Finally, we will sync the data in the Datasource to the KnowledgeBase and it will be ready for testing. \n",
    "\n",
    "Pre-Requisites\n",
    "- AWS account, credentials and appropriate access rights\n",
    "- SEC API_KEY if you would like to download sec documents - Sample documents are available otherwise  "
   ]
  },
  {
   "cell_type": "markdown",
   "metadata": {},
   "source": [
    "### ✅ Install Required Packages\n",
    "\n",
    "First, we need to install all the necessary packages for our notebook. Each package has a specific purpose:\n",
    "\n",
    "- **langfuse**: Provides observability for our agent\n",
    "- **boto3**: AWS SDK for Python, used to access AWS services and Use Amazon Bedrock Models\n",
    "- **strands**: Framework for building AI agents\n"
   ]
  },
  {
   "cell_type": "markdown",
   "metadata": {},
   "source": []
  },
  {
   "cell_type": "code",
   "execution_count": 4,
   "metadata": {},
   "outputs": [
    {
     "name": "stdout",
     "output_type": "stream",
     "text": [
      "Looking in indexes: https://pypi.org/simple, https://plugin.us-east-1.prod.workshops.aws\n",
      "Requirement already satisfied: boto3 in /Users/hejalee/Projects/10k-Evaluations/.venv/lib/python3.13/site-packages (from -r requirements.txt (line 1)) (1.40.34)\n",
      "Requirement already satisfied: strands-agents in /Users/hejalee/Projects/10k-Evaluations/.venv/lib/python3.13/site-packages (from -r requirements.txt (line 2)) (1.9.0)\n",
      "Requirement already satisfied: strands-agents-tools in /Users/hejalee/Projects/10k-Evaluations/.venv/lib/python3.13/site-packages (from -r requirements.txt (line 3)) (0.2.8)\n",
      "Requirement already satisfied: langfuse in /Users/hejalee/Projects/10k-Evaluations/.venv/lib/python3.13/site-packages (from -r requirements.txt (line 4)) (3.5.0)\n",
      "Requirement already satisfied: opensearch-py in /Users/hejalee/Projects/10k-Evaluations/.venv/lib/python3.13/site-packages (from -r requirements.txt (line 5)) (3.0.0)\n",
      "Requirement already satisfied: requests_aws4auth in /Users/hejalee/Projects/10k-Evaluations/.venv/lib/python3.13/site-packages (from -r requirements.txt (line 6)) (1.3.1)\n",
      "Requirement already satisfied: sec-api in /Users/hejalee/Projects/10k-Evaluations/.venv/lib/python3.13/site-packages (from -r requirements.txt (line 7)) (1.0.32)\n",
      "Requirement already satisfied: ragas in /Users/hejalee/Projects/10k-Evaluations/.venv/lib/python3.13/site-packages (from -r requirements.txt (line 8)) (0.3.5)\n",
      "Requirement already satisfied: langchain_aws in /Users/hejalee/Projects/10k-Evaluations/.venv/lib/python3.13/site-packages (from -r requirements.txt (line 9)) (0.2.33)\n",
      "Requirement already satisfied: botocore<1.41.0,>=1.40.34 in /Users/hejalee/Projects/10k-Evaluations/.venv/lib/python3.13/site-packages (from boto3->-r requirements.txt (line 1)) (1.40.34)\n",
      "Requirement already satisfied: jmespath<2.0.0,>=0.7.1 in /Users/hejalee/Projects/10k-Evaluations/.venv/lib/python3.13/site-packages (from boto3->-r requirements.txt (line 1)) (1.0.1)\n",
      "Requirement already satisfied: s3transfer<0.15.0,>=0.14.0 in /Users/hejalee/Projects/10k-Evaluations/.venv/lib/python3.13/site-packages (from boto3->-r requirements.txt (line 1)) (0.14.0)\n",
      "Requirement already satisfied: python-dateutil<3.0.0,>=2.1 in /Users/hejalee/Projects/10k-Evaluations/.venv/lib/python3.13/site-packages (from botocore<1.41.0,>=1.40.34->boto3->-r requirements.txt (line 1)) (2.9.0.post0)\n",
      "Requirement already satisfied: urllib3!=2.2.0,<3,>=1.25.4 in /Users/hejalee/Projects/10k-Evaluations/.venv/lib/python3.13/site-packages (from botocore<1.41.0,>=1.40.34->boto3->-r requirements.txt (line 1)) (2.5.0)\n",
      "Requirement already satisfied: six>=1.5 in /Users/hejalee/Projects/10k-Evaluations/.venv/lib/python3.13/site-packages (from python-dateutil<3.0.0,>=2.1->botocore<1.41.0,>=1.40.34->boto3->-r requirements.txt (line 1)) (1.17.0)\n",
      "Requirement already satisfied: docstring-parser<1.0,>=0.15 in /Users/hejalee/Projects/10k-Evaluations/.venv/lib/python3.13/site-packages (from strands-agents->-r requirements.txt (line 2)) (0.17.0)\n",
      "Requirement already satisfied: mcp<2.0.0,>=1.11.0 in /Users/hejalee/Projects/10k-Evaluations/.venv/lib/python3.13/site-packages (from strands-agents->-r requirements.txt (line 2)) (1.14.1)\n",
      "Requirement already satisfied: opentelemetry-api<2.0.0,>=1.30.0 in /Users/hejalee/Projects/10k-Evaluations/.venv/lib/python3.13/site-packages (from strands-agents->-r requirements.txt (line 2)) (1.37.0)\n",
      "Requirement already satisfied: opentelemetry-instrumentation-threading<1.00b0,>=0.51b0 in /Users/hejalee/Projects/10k-Evaluations/.venv/lib/python3.13/site-packages (from strands-agents->-r requirements.txt (line 2)) (0.58b0)\n",
      "Requirement already satisfied: opentelemetry-sdk<2.0.0,>=1.30.0 in /Users/hejalee/Projects/10k-Evaluations/.venv/lib/python3.13/site-packages (from strands-agents->-r requirements.txt (line 2)) (1.37.0)\n",
      "Requirement already satisfied: pydantic<3.0.0,>=2.4.0 in /Users/hejalee/Projects/10k-Evaluations/.venv/lib/python3.13/site-packages (from strands-agents->-r requirements.txt (line 2)) (2.11.9)\n",
      "Requirement already satisfied: typing-extensions<5.0.0,>=4.13.2 in /Users/hejalee/Projects/10k-Evaluations/.venv/lib/python3.13/site-packages (from strands-agents->-r requirements.txt (line 2)) (4.15.0)\n",
      "Requirement already satisfied: watchdog<7.0.0,>=6.0.0 in /Users/hejalee/Projects/10k-Evaluations/.venv/lib/python3.13/site-packages (from strands-agents->-r requirements.txt (line 2)) (6.0.0)\n",
      "Requirement already satisfied: anyio>=4.5 in /Users/hejalee/Projects/10k-Evaluations/.venv/lib/python3.13/site-packages (from mcp<2.0.0,>=1.11.0->strands-agents->-r requirements.txt (line 2)) (4.10.0)\n",
      "Requirement already satisfied: httpx-sse>=0.4 in /Users/hejalee/Projects/10k-Evaluations/.venv/lib/python3.13/site-packages (from mcp<2.0.0,>=1.11.0->strands-agents->-r requirements.txt (line 2)) (0.4.1)\n",
      "Requirement already satisfied: httpx>=0.27.1 in /Users/hejalee/Projects/10k-Evaluations/.venv/lib/python3.13/site-packages (from mcp<2.0.0,>=1.11.0->strands-agents->-r requirements.txt (line 2)) (0.28.1)\n",
      "Requirement already satisfied: jsonschema>=4.20.0 in /Users/hejalee/Projects/10k-Evaluations/.venv/lib/python3.13/site-packages (from mcp<2.0.0,>=1.11.0->strands-agents->-r requirements.txt (line 2)) (4.25.1)\n",
      "Requirement already satisfied: pydantic-settings>=2.5.2 in /Users/hejalee/Projects/10k-Evaluations/.venv/lib/python3.13/site-packages (from mcp<2.0.0,>=1.11.0->strands-agents->-r requirements.txt (line 2)) (2.10.1)\n",
      "Requirement already satisfied: python-multipart>=0.0.9 in /Users/hejalee/Projects/10k-Evaluations/.venv/lib/python3.13/site-packages (from mcp<2.0.0,>=1.11.0->strands-agents->-r requirements.txt (line 2)) (0.0.20)\n",
      "Requirement already satisfied: sse-starlette>=1.6.1 in /Users/hejalee/Projects/10k-Evaluations/.venv/lib/python3.13/site-packages (from mcp<2.0.0,>=1.11.0->strands-agents->-r requirements.txt (line 2)) (3.0.2)\n",
      "Requirement already satisfied: starlette>=0.27 in /Users/hejalee/Projects/10k-Evaluations/.venv/lib/python3.13/site-packages (from mcp<2.0.0,>=1.11.0->strands-agents->-r requirements.txt (line 2)) (0.48.0)\n",
      "Requirement already satisfied: uvicorn>=0.31.1 in /Users/hejalee/Projects/10k-Evaluations/.venv/lib/python3.13/site-packages (from mcp<2.0.0,>=1.11.0->strands-agents->-r requirements.txt (line 2)) (0.35.0)\n",
      "Requirement already satisfied: importlib-metadata<8.8.0,>=6.0 in /Users/hejalee/Projects/10k-Evaluations/.venv/lib/python3.13/site-packages (from opentelemetry-api<2.0.0,>=1.30.0->strands-agents->-r requirements.txt (line 2)) (8.7.0)\n",
      "Requirement already satisfied: zipp>=3.20 in /Users/hejalee/Projects/10k-Evaluations/.venv/lib/python3.13/site-packages (from importlib-metadata<8.8.0,>=6.0->opentelemetry-api<2.0.0,>=1.30.0->strands-agents->-r requirements.txt (line 2)) (3.23.0)\n",
      "Requirement already satisfied: opentelemetry-instrumentation==0.58b0 in /Users/hejalee/Projects/10k-Evaluations/.venv/lib/python3.13/site-packages (from opentelemetry-instrumentation-threading<1.00b0,>=0.51b0->strands-agents->-r requirements.txt (line 2)) (0.58b0)\n",
      "Requirement already satisfied: wrapt<2.0.0,>=1.0.0 in /Users/hejalee/Projects/10k-Evaluations/.venv/lib/python3.13/site-packages (from opentelemetry-instrumentation-threading<1.00b0,>=0.51b0->strands-agents->-r requirements.txt (line 2)) (1.17.3)\n",
      "Requirement already satisfied: opentelemetry-semantic-conventions==0.58b0 in /Users/hejalee/Projects/10k-Evaluations/.venv/lib/python3.13/site-packages (from opentelemetry-instrumentation==0.58b0->opentelemetry-instrumentation-threading<1.00b0,>=0.51b0->strands-agents->-r requirements.txt (line 2)) (0.58b0)\n",
      "Requirement already satisfied: packaging>=18.0 in /Users/hejalee/Projects/10k-Evaluations/.venv/lib/python3.13/site-packages (from opentelemetry-instrumentation==0.58b0->opentelemetry-instrumentation-threading<1.00b0,>=0.51b0->strands-agents->-r requirements.txt (line 2)) (25.0)\n",
      "Requirement already satisfied: annotated-types>=0.6.0 in /Users/hejalee/Projects/10k-Evaluations/.venv/lib/python3.13/site-packages (from pydantic<3.0.0,>=2.4.0->strands-agents->-r requirements.txt (line 2)) (0.7.0)\n",
      "Requirement already satisfied: pydantic-core==2.33.2 in /Users/hejalee/Projects/10k-Evaluations/.venv/lib/python3.13/site-packages (from pydantic<3.0.0,>=2.4.0->strands-agents->-r requirements.txt (line 2)) (2.33.2)\n",
      "Requirement already satisfied: typing-inspection>=0.4.0 in /Users/hejalee/Projects/10k-Evaluations/.venv/lib/python3.13/site-packages (from pydantic<3.0.0,>=2.4.0->strands-agents->-r requirements.txt (line 2)) (0.4.1)\n",
      "Requirement already satisfied: aiohttp<4.0.0,>=3.8.0 in /Users/hejalee/Projects/10k-Evaluations/.venv/lib/python3.13/site-packages (from strands-agents-tools->-r requirements.txt (line 3)) (3.12.15)\n",
      "Requirement already satisfied: aws-requests-auth<0.5.0,>=0.4.3 in /Users/hejalee/Projects/10k-Evaluations/.venv/lib/python3.13/site-packages (from strands-agents-tools->-r requirements.txt (line 3)) (0.4.3)\n",
      "Requirement already satisfied: dill<0.5.0,>=0.4.0 in /Users/hejalee/Projects/10k-Evaluations/.venv/lib/python3.13/site-packages (from strands-agents-tools->-r requirements.txt (line 3)) (0.4.0)\n",
      "Requirement already satisfied: markdownify<2.0.0,>=1.0.0 in /Users/hejalee/Projects/10k-Evaluations/.venv/lib/python3.13/site-packages (from strands-agents-tools->-r requirements.txt (line 3)) (1.2.0)\n",
      "Requirement already satisfied: pillow<12.0.0,>=11.2.1 in /Users/hejalee/Projects/10k-Evaluations/.venv/lib/python3.13/site-packages (from strands-agents-tools->-r requirements.txt (line 3)) (11.3.0)\n",
      "Requirement already satisfied: prompt-toolkit<4.0.0,>=3.0.51 in /Users/hejalee/Projects/10k-Evaluations/.venv/lib/python3.13/site-packages (from strands-agents-tools->-r requirements.txt (line 3)) (3.0.52)\n",
      "Requirement already satisfied: pyjwt<3.0.0,>=2.10.1 in /Users/hejalee/Projects/10k-Evaluations/.venv/lib/python3.13/site-packages (from strands-agents-tools->-r requirements.txt (line 3)) (2.10.1)\n",
      "Requirement already satisfied: readabilipy<1.0.0,>=0.2.0 in /Users/hejalee/Projects/10k-Evaluations/.venv/lib/python3.13/site-packages (from strands-agents-tools->-r requirements.txt (line 3)) (0.3.0)\n",
      "Requirement already satisfied: requests<3.0.0,>=2.28.0 in /Users/hejalee/Projects/10k-Evaluations/.venv/lib/python3.13/site-packages (from strands-agents-tools->-r requirements.txt (line 3)) (2.32.5)\n",
      "Requirement already satisfied: rich<15.0.0,>=14.0.0 in /Users/hejalee/Projects/10k-Evaluations/.venv/lib/python3.13/site-packages (from strands-agents-tools->-r requirements.txt (line 3)) (14.1.0)\n",
      "Requirement already satisfied: slack-bolt<2.0.0,>=1.23.0 in /Users/hejalee/Projects/10k-Evaluations/.venv/lib/python3.13/site-packages (from strands-agents-tools->-r requirements.txt (line 3)) (1.25.0)\n",
      "Requirement already satisfied: sympy<2.0.0,>=1.12.0 in /Users/hejalee/Projects/10k-Evaluations/.venv/lib/python3.13/site-packages (from strands-agents-tools->-r requirements.txt (line 3)) (1.14.0)\n",
      "Requirement already satisfied: tenacity<10.0.0,>=9.1.2 in /Users/hejalee/Projects/10k-Evaluations/.venv/lib/python3.13/site-packages (from strands-agents-tools->-r requirements.txt (line 3)) (9.1.2)\n",
      "Requirement already satisfied: aiohappyeyeballs>=2.5.0 in /Users/hejalee/Projects/10k-Evaluations/.venv/lib/python3.13/site-packages (from aiohttp<4.0.0,>=3.8.0->strands-agents-tools->-r requirements.txt (line 3)) (2.6.1)\n",
      "Requirement already satisfied: aiosignal>=1.4.0 in /Users/hejalee/Projects/10k-Evaluations/.venv/lib/python3.13/site-packages (from aiohttp<4.0.0,>=3.8.0->strands-agents-tools->-r requirements.txt (line 3)) (1.4.0)\n",
      "Requirement already satisfied: attrs>=17.3.0 in /Users/hejalee/Projects/10k-Evaluations/.venv/lib/python3.13/site-packages (from aiohttp<4.0.0,>=3.8.0->strands-agents-tools->-r requirements.txt (line 3)) (25.3.0)\n",
      "Requirement already satisfied: frozenlist>=1.1.1 in /Users/hejalee/Projects/10k-Evaluations/.venv/lib/python3.13/site-packages (from aiohttp<4.0.0,>=3.8.0->strands-agents-tools->-r requirements.txt (line 3)) (1.7.0)\n",
      "Requirement already satisfied: multidict<7.0,>=4.5 in /Users/hejalee/Projects/10k-Evaluations/.venv/lib/python3.13/site-packages (from aiohttp<4.0.0,>=3.8.0->strands-agents-tools->-r requirements.txt (line 3)) (6.6.4)\n",
      "Requirement already satisfied: propcache>=0.2.0 in /Users/hejalee/Projects/10k-Evaluations/.venv/lib/python3.13/site-packages (from aiohttp<4.0.0,>=3.8.0->strands-agents-tools->-r requirements.txt (line 3)) (0.3.2)\n",
      "Requirement already satisfied: yarl<2.0,>=1.17.0 in /Users/hejalee/Projects/10k-Evaluations/.venv/lib/python3.13/site-packages (from aiohttp<4.0.0,>=3.8.0->strands-agents-tools->-r requirements.txt (line 3)) (1.20.1)\n",
      "Requirement already satisfied: beautifulsoup4<5,>=4.9 in /Users/hejalee/Projects/10k-Evaluations/.venv/lib/python3.13/site-packages (from markdownify<2.0.0,>=1.0.0->strands-agents-tools->-r requirements.txt (line 3)) (4.13.5)\n",
      "Requirement already satisfied: soupsieve>1.2 in /Users/hejalee/Projects/10k-Evaluations/.venv/lib/python3.13/site-packages (from beautifulsoup4<5,>=4.9->markdownify<2.0.0,>=1.0.0->strands-agents-tools->-r requirements.txt (line 3)) (2.8)\n",
      "Requirement already satisfied: wcwidth in /Users/hejalee/Projects/10k-Evaluations/.venv/lib/python3.13/site-packages (from prompt-toolkit<4.0.0,>=3.0.51->strands-agents-tools->-r requirements.txt (line 3)) (0.2.13)\n",
      "Requirement already satisfied: html5lib in /Users/hejalee/Projects/10k-Evaluations/.venv/lib/python3.13/site-packages (from readabilipy<1.0.0,>=0.2.0->strands-agents-tools->-r requirements.txt (line 3)) (1.1)\n",
      "Requirement already satisfied: lxml in /Users/hejalee/Projects/10k-Evaluations/.venv/lib/python3.13/site-packages (from readabilipy<1.0.0,>=0.2.0->strands-agents-tools->-r requirements.txt (line 3)) (6.0.1)\n",
      "Requirement already satisfied: regex in /Users/hejalee/Projects/10k-Evaluations/.venv/lib/python3.13/site-packages (from readabilipy<1.0.0,>=0.2.0->strands-agents-tools->-r requirements.txt (line 3)) (2025.9.18)\n",
      "Requirement already satisfied: charset_normalizer<4,>=2 in /Users/hejalee/Projects/10k-Evaluations/.venv/lib/python3.13/site-packages (from requests<3.0.0,>=2.28.0->strands-agents-tools->-r requirements.txt (line 3)) (3.4.3)\n",
      "Requirement already satisfied: idna<4,>=2.5 in /Users/hejalee/Projects/10k-Evaluations/.venv/lib/python3.13/site-packages (from requests<3.0.0,>=2.28.0->strands-agents-tools->-r requirements.txt (line 3)) (3.10)\n",
      "Requirement already satisfied: certifi>=2017.4.17 in /Users/hejalee/Projects/10k-Evaluations/.venv/lib/python3.13/site-packages (from requests<3.0.0,>=2.28.0->strands-agents-tools->-r requirements.txt (line 3)) (2025.8.3)\n",
      "Requirement already satisfied: markdown-it-py>=2.2.0 in /Users/hejalee/Projects/10k-Evaluations/.venv/lib/python3.13/site-packages (from rich<15.0.0,>=14.0.0->strands-agents-tools->-r requirements.txt (line 3)) (4.0.0)\n",
      "Requirement already satisfied: pygments<3.0.0,>=2.13.0 in /Users/hejalee/Projects/10k-Evaluations/.venv/lib/python3.13/site-packages (from rich<15.0.0,>=14.0.0->strands-agents-tools->-r requirements.txt (line 3)) (2.19.2)\n",
      "Requirement already satisfied: slack_sdk<4,>=3.35.0 in /Users/hejalee/Projects/10k-Evaluations/.venv/lib/python3.13/site-packages (from slack-bolt<2.0.0,>=1.23.0->strands-agents-tools->-r requirements.txt (line 3)) (3.36.0)\n",
      "Requirement already satisfied: mpmath<1.4,>=1.1.0 in /Users/hejalee/Projects/10k-Evaluations/.venv/lib/python3.13/site-packages (from sympy<2.0.0,>=1.12.0->strands-agents-tools->-r requirements.txt (line 3)) (1.3.0)\n",
      "Requirement already satisfied: backoff>=1.10.0 in /Users/hejalee/Projects/10k-Evaluations/.venv/lib/python3.13/site-packages (from langfuse->-r requirements.txt (line 4)) (2.2.1)\n",
      "Requirement already satisfied: opentelemetry-exporter-otlp-proto-http<2.0.0,>=1.33.1 in /Users/hejalee/Projects/10k-Evaluations/.venv/lib/python3.13/site-packages (from langfuse->-r requirements.txt (line 4)) (1.37.0)\n",
      "Requirement already satisfied: httpcore==1.* in /Users/hejalee/Projects/10k-Evaluations/.venv/lib/python3.13/site-packages (from httpx>=0.27.1->mcp<2.0.0,>=1.11.0->strands-agents->-r requirements.txt (line 2)) (1.0.9)\n",
      "Requirement already satisfied: h11>=0.16 in /Users/hejalee/Projects/10k-Evaluations/.venv/lib/python3.13/site-packages (from httpcore==1.*->httpx>=0.27.1->mcp<2.0.0,>=1.11.0->strands-agents->-r requirements.txt (line 2)) (0.16.0)\n",
      "Requirement already satisfied: googleapis-common-protos~=1.52 in /Users/hejalee/Projects/10k-Evaluations/.venv/lib/python3.13/site-packages (from opentelemetry-exporter-otlp-proto-http<2.0.0,>=1.33.1->langfuse->-r requirements.txt (line 4)) (1.70.0)\n",
      "Requirement already satisfied: opentelemetry-exporter-otlp-proto-common==1.37.0 in /Users/hejalee/Projects/10k-Evaluations/.venv/lib/python3.13/site-packages (from opentelemetry-exporter-otlp-proto-http<2.0.0,>=1.33.1->langfuse->-r requirements.txt (line 4)) (1.37.0)\n",
      "Requirement already satisfied: opentelemetry-proto==1.37.0 in /Users/hejalee/Projects/10k-Evaluations/.venv/lib/python3.13/site-packages (from opentelemetry-exporter-otlp-proto-http<2.0.0,>=1.33.1->langfuse->-r requirements.txt (line 4)) (1.37.0)\n",
      "Requirement already satisfied: protobuf<7.0,>=5.0 in /Users/hejalee/Projects/10k-Evaluations/.venv/lib/python3.13/site-packages (from opentelemetry-proto==1.37.0->opentelemetry-exporter-otlp-proto-http<2.0.0,>=1.33.1->langfuse->-r requirements.txt (line 4)) (6.32.1)\n",
      "Requirement already satisfied: Events in /Users/hejalee/Projects/10k-Evaluations/.venv/lib/python3.13/site-packages (from opensearch-py->-r requirements.txt (line 5)) (0.5)\n",
      "Requirement already satisfied: numpy in /Users/hejalee/Projects/10k-Evaluations/.venv/lib/python3.13/site-packages (from ragas->-r requirements.txt (line 8)) (2.3.3)\n",
      "Requirement already satisfied: datasets>=4.0.0 in /Users/hejalee/Projects/10k-Evaluations/.venv/lib/python3.13/site-packages (from ragas->-r requirements.txt (line 8)) (4.1.1)\n",
      "Requirement already satisfied: tiktoken in /Users/hejalee/Projects/10k-Evaluations/.venv/lib/python3.13/site-packages (from ragas->-r requirements.txt (line 8)) (0.11.0)\n",
      "Requirement already satisfied: nest-asyncio in /Users/hejalee/Projects/10k-Evaluations/.venv/lib/python3.13/site-packages (from ragas->-r requirements.txt (line 8)) (1.6.0)\n",
      "Requirement already satisfied: appdirs in /Users/hejalee/Projects/10k-Evaluations/.venv/lib/python3.13/site-packages (from ragas->-r requirements.txt (line 8)) (1.4.4)\n",
      "Requirement already satisfied: diskcache>=5.6.3 in /Users/hejalee/Projects/10k-Evaluations/.venv/lib/python3.13/site-packages (from ragas->-r requirements.txt (line 8)) (5.6.3)\n",
      "Requirement already satisfied: typer in /Users/hejalee/Projects/10k-Evaluations/.venv/lib/python3.13/site-packages (from ragas->-r requirements.txt (line 8)) (0.19.1)\n",
      "Requirement already satisfied: openai>=1.0.0 in /Users/hejalee/Projects/10k-Evaluations/.venv/lib/python3.13/site-packages (from ragas->-r requirements.txt (line 8)) (1.108.1)\n",
      "Requirement already satisfied: tqdm in /Users/hejalee/Projects/10k-Evaluations/.venv/lib/python3.13/site-packages (from ragas->-r requirements.txt (line 8)) (4.67.1)\n",
      "Requirement already satisfied: instructor in /Users/hejalee/Projects/10k-Evaluations/.venv/lib/python3.13/site-packages (from ragas->-r requirements.txt (line 8)) (1.11.3)\n",
      "Requirement already satisfied: gitpython in /Users/hejalee/Projects/10k-Evaluations/.venv/lib/python3.13/site-packages (from ragas->-r requirements.txt (line 8)) (3.1.45)\n",
      "Requirement already satisfied: networkx in /Users/hejalee/Projects/10k-Evaluations/.venv/lib/python3.13/site-packages (from ragas->-r requirements.txt (line 8)) (3.5)\n",
      "Requirement already satisfied: scikit-network in /Users/hejalee/Projects/10k-Evaluations/.venv/lib/python3.13/site-packages (from ragas->-r requirements.txt (line 8)) (0.33.3)\n",
      "Requirement already satisfied: langchain in /Users/hejalee/Projects/10k-Evaluations/.venv/lib/python3.13/site-packages (from ragas->-r requirements.txt (line 8)) (0.3.27)\n",
      "Requirement already satisfied: langchain-core in /Users/hejalee/Projects/10k-Evaluations/.venv/lib/python3.13/site-packages (from ragas->-r requirements.txt (line 8)) (0.3.76)\n",
      "Requirement already satisfied: langchain-community in /Users/hejalee/Projects/10k-Evaluations/.venv/lib/python3.13/site-packages (from ragas->-r requirements.txt (line 8)) (0.3.29)\n",
      "Requirement already satisfied: langchain_openai in /Users/hejalee/Projects/10k-Evaluations/.venv/lib/python3.13/site-packages (from ragas->-r requirements.txt (line 8)) (0.3.33)\n",
      "Requirement already satisfied: langsmith>=0.3.45 in /Users/hejalee/Projects/10k-Evaluations/.venv/lib/python3.13/site-packages (from langchain-core->ragas->-r requirements.txt (line 8)) (0.4.29)\n",
      "Requirement already satisfied: jsonpatch<2.0,>=1.33 in /Users/hejalee/Projects/10k-Evaluations/.venv/lib/python3.13/site-packages (from langchain-core->ragas->-r requirements.txt (line 8)) (1.33)\n",
      "Requirement already satisfied: PyYAML>=5.3 in /Users/hejalee/Projects/10k-Evaluations/.venv/lib/python3.13/site-packages (from langchain-core->ragas->-r requirements.txt (line 8)) (6.0.2)\n",
      "Requirement already satisfied: jsonpointer>=1.9 in /Users/hejalee/Projects/10k-Evaluations/.venv/lib/python3.13/site-packages (from jsonpatch<2.0,>=1.33->langchain-core->ragas->-r requirements.txt (line 8)) (3.0.0)\n",
      "Requirement already satisfied: sniffio>=1.1 in /Users/hejalee/Projects/10k-Evaluations/.venv/lib/python3.13/site-packages (from anyio>=4.5->mcp<2.0.0,>=1.11.0->strands-agents->-r requirements.txt (line 2)) (1.3.1)\n",
      "Requirement already satisfied: filelock in /Users/hejalee/Projects/10k-Evaluations/.venv/lib/python3.13/site-packages (from datasets>=4.0.0->ragas->-r requirements.txt (line 8)) (3.19.1)\n",
      "Requirement already satisfied: pyarrow>=21.0.0 in /Users/hejalee/Projects/10k-Evaluations/.venv/lib/python3.13/site-packages (from datasets>=4.0.0->ragas->-r requirements.txt (line 8)) (21.0.0)\n",
      "Requirement already satisfied: pandas in /Users/hejalee/Projects/10k-Evaluations/.venv/lib/python3.13/site-packages (from datasets>=4.0.0->ragas->-r requirements.txt (line 8)) (2.3.2)\n",
      "Requirement already satisfied: xxhash in /Users/hejalee/Projects/10k-Evaluations/.venv/lib/python3.13/site-packages (from datasets>=4.0.0->ragas->-r requirements.txt (line 8)) (3.5.0)\n",
      "Requirement already satisfied: multiprocess<0.70.17 in /Users/hejalee/Projects/10k-Evaluations/.venv/lib/python3.13/site-packages (from datasets>=4.0.0->ragas->-r requirements.txt (line 8)) (0.70.16)\n",
      "Requirement already satisfied: fsspec<=2025.9.0,>=2023.1.0 in /Users/hejalee/Projects/10k-Evaluations/.venv/lib/python3.13/site-packages (from fsspec[http]<=2025.9.0,>=2023.1.0->datasets>=4.0.0->ragas->-r requirements.txt (line 8)) (2025.9.0)\n",
      "Requirement already satisfied: huggingface-hub>=0.24.0 in /Users/hejalee/Projects/10k-Evaluations/.venv/lib/python3.13/site-packages (from datasets>=4.0.0->ragas->-r requirements.txt (line 8)) (0.35.0)\n",
      "Requirement already satisfied: hf-xet<2.0.0,>=1.1.3 in /Users/hejalee/Projects/10k-Evaluations/.venv/lib/python3.13/site-packages (from huggingface-hub>=0.24.0->datasets>=4.0.0->ragas->-r requirements.txt (line 8)) (1.1.10)\n",
      "Requirement already satisfied: jsonschema-specifications>=2023.03.6 in /Users/hejalee/Projects/10k-Evaluations/.venv/lib/python3.13/site-packages (from jsonschema>=4.20.0->mcp<2.0.0,>=1.11.0->strands-agents->-r requirements.txt (line 2)) (2025.9.1)\n",
      "Requirement already satisfied: referencing>=0.28.4 in /Users/hejalee/Projects/10k-Evaluations/.venv/lib/python3.13/site-packages (from jsonschema>=4.20.0->mcp<2.0.0,>=1.11.0->strands-agents->-r requirements.txt (line 2)) (0.36.2)\n",
      "Requirement already satisfied: rpds-py>=0.7.1 in /Users/hejalee/Projects/10k-Evaluations/.venv/lib/python3.13/site-packages (from jsonschema>=4.20.0->mcp<2.0.0,>=1.11.0->strands-agents->-r requirements.txt (line 2)) (0.27.1)\n",
      "Requirement already satisfied: orjson>=3.9.14 in /Users/hejalee/Projects/10k-Evaluations/.venv/lib/python3.13/site-packages (from langsmith>=0.3.45->langchain-core->ragas->-r requirements.txt (line 8)) (3.11.3)\n",
      "Requirement already satisfied: requests-toolbelt>=1.0.0 in /Users/hejalee/Projects/10k-Evaluations/.venv/lib/python3.13/site-packages (from langsmith>=0.3.45->langchain-core->ragas->-r requirements.txt (line 8)) (1.0.0)\n",
      "Requirement already satisfied: zstandard>=0.23.0 in /Users/hejalee/Projects/10k-Evaluations/.venv/lib/python3.13/site-packages (from langsmith>=0.3.45->langchain-core->ragas->-r requirements.txt (line 8)) (0.25.0)\n",
      "Requirement already satisfied: mdurl~=0.1 in /Users/hejalee/Projects/10k-Evaluations/.venv/lib/python3.13/site-packages (from markdown-it-py>=2.2.0->rich<15.0.0,>=14.0.0->strands-agents-tools->-r requirements.txt (line 3)) (0.1.2)\n",
      "Requirement already satisfied: distro<2,>=1.7.0 in /Users/hejalee/Projects/10k-Evaluations/.venv/lib/python3.13/site-packages (from openai>=1.0.0->ragas->-r requirements.txt (line 8)) (1.9.0)\n",
      "Requirement already satisfied: jiter<1,>=0.4.0 in /Users/hejalee/Projects/10k-Evaluations/.venv/lib/python3.13/site-packages (from openai>=1.0.0->ragas->-r requirements.txt (line 8)) (0.10.0)\n",
      "Requirement already satisfied: python-dotenv>=0.21.0 in /Users/hejalee/Projects/10k-Evaluations/.venv/lib/python3.13/site-packages (from pydantic-settings>=2.5.2->mcp<2.0.0,>=1.11.0->strands-agents->-r requirements.txt (line 2)) (1.1.1)\n",
      "Requirement already satisfied: click>=7.0 in /Users/hejalee/Projects/10k-Evaluations/.venv/lib/python3.13/site-packages (from uvicorn>=0.31.1->mcp<2.0.0,>=1.11.0->strands-agents->-r requirements.txt (line 2)) (8.3.0)\n",
      "Requirement already satisfied: gitdb<5,>=4.0.1 in /Users/hejalee/Projects/10k-Evaluations/.venv/lib/python3.13/site-packages (from gitpython->ragas->-r requirements.txt (line 8)) (4.0.12)\n",
      "Requirement already satisfied: smmap<6,>=3.0.1 in /Users/hejalee/Projects/10k-Evaluations/.venv/lib/python3.13/site-packages (from gitdb<5,>=4.0.1->gitpython->ragas->-r requirements.txt (line 8)) (5.0.2)\n",
      "Requirement already satisfied: webencodings in /Users/hejalee/Projects/10k-Evaluations/.venv/lib/python3.13/site-packages (from html5lib->readabilipy<1.0.0,>=0.2.0->strands-agents-tools->-r requirements.txt (line 3)) (0.5.1)\n",
      "Requirement already satisfied: jinja2<4.0.0,>=3.1.4 in /Users/hejalee/Projects/10k-Evaluations/.venv/lib/python3.13/site-packages (from instructor->ragas->-r requirements.txt (line 8)) (3.1.6)\n",
      "Requirement already satisfied: MarkupSafe>=2.0 in /Users/hejalee/Projects/10k-Evaluations/.venv/lib/python3.13/site-packages (from jinja2<4.0.0,>=3.1.4->instructor->ragas->-r requirements.txt (line 8)) (3.0.2)\n",
      "Requirement already satisfied: shellingham>=1.3.0 in /Users/hejalee/Projects/10k-Evaluations/.venv/lib/python3.13/site-packages (from typer->ragas->-r requirements.txt (line 8)) (1.5.4)\n",
      "Requirement already satisfied: langchain-text-splitters<1.0.0,>=0.3.9 in /Users/hejalee/Projects/10k-Evaluations/.venv/lib/python3.13/site-packages (from langchain->ragas->-r requirements.txt (line 8)) (0.3.11)\n",
      "Requirement already satisfied: SQLAlchemy<3,>=1.4 in /Users/hejalee/Projects/10k-Evaluations/.venv/lib/python3.13/site-packages (from langchain->ragas->-r requirements.txt (line 8)) (2.0.43)\n",
      "Requirement already satisfied: dataclasses-json<0.7,>=0.6.7 in /Users/hejalee/Projects/10k-Evaluations/.venv/lib/python3.13/site-packages (from langchain-community->ragas->-r requirements.txt (line 8)) (0.6.7)\n",
      "Requirement already satisfied: marshmallow<4.0.0,>=3.18.0 in /Users/hejalee/Projects/10k-Evaluations/.venv/lib/python3.13/site-packages (from dataclasses-json<0.7,>=0.6.7->langchain-community->ragas->-r requirements.txt (line 8)) (3.26.1)\n",
      "Requirement already satisfied: typing-inspect<1,>=0.4.0 in /Users/hejalee/Projects/10k-Evaluations/.venv/lib/python3.13/site-packages (from dataclasses-json<0.7,>=0.6.7->langchain-community->ragas->-r requirements.txt (line 8)) (0.9.0)\n",
      "Requirement already satisfied: mypy-extensions>=0.3.0 in /Users/hejalee/Projects/10k-Evaluations/.venv/lib/python3.13/site-packages (from typing-inspect<1,>=0.4.0->dataclasses-json<0.7,>=0.6.7->langchain-community->ragas->-r requirements.txt (line 8)) (1.1.0)\n",
      "Requirement already satisfied: pytz>=2020.1 in /Users/hejalee/Projects/10k-Evaluations/.venv/lib/python3.13/site-packages (from pandas->datasets>=4.0.0->ragas->-r requirements.txt (line 8)) (2025.2)\n",
      "Requirement already satisfied: tzdata>=2022.7 in /Users/hejalee/Projects/10k-Evaluations/.venv/lib/python3.13/site-packages (from pandas->datasets>=4.0.0->ragas->-r requirements.txt (line 8)) (2025.2)\n",
      "Requirement already satisfied: scipy>=1.7.3 in /Users/hejalee/Projects/10k-Evaluations/.venv/lib/python3.13/site-packages (from scikit-network->ragas->-r requirements.txt (line 8)) (1.16.2)\n",
      "Note: you may need to restart the kernel to use updated packages.\n"
     ]
    }
   ],
   "source": [
    "\n",
    "%pip install -r requirements.txt"
   ]
  },
  {
   "cell_type": "markdown",
   "metadata": {},
   "source": [
    "#### Set Up And Configuration "
   ]
  },
  {
   "cell_type": "code",
   "execution_count": null,
   "metadata": {},
   "outputs": [
    {
     "name": "stdout",
     "output_type": "stream",
     "text": [
      "Found credentials in shared credentials file: ~/.aws/credentials\n",
      "Using unique identifier: f9a3\n",
      "AWS Region: us-east-1\n",
      "Account ID: 522814709709\n"
     ]
    }
   ],
   "source": [
    "import sys\n",
    "import time\n",
    "import boto3\n",
    "from botocore.client import Config\n",
    "import logging\n",
    "import sys\n",
    "\n",
    "# Clean Resources - change to true if you want to run clean up at the end\n",
    "clean_resources = False\n",
    "\n",
    "# Configure logging to show in Jupyter\n",
    "logging.basicConfig(\n",
    "    level=logging.INFO,\n",
    "    format='%(message)s',\n",
    "    handlers=[logging.StreamHandler(sys.stdout)],\n",
    "    force=True\n",
    ")\n",
    "\n",
    "from utils import (\n",
    "    generate_short_code, \n",
    "    create_bedrock_execution_role, \n",
    "    create_knowledge_base, \n",
    "    create_s3_bucket, \n",
    "    create_vector_bucket, \n",
    "    create_and_get_index_arn,\n",
    "    process_companies,\n",
    "    upload_companies\n",
    ")\n",
    "\n",
    "# Create boto3 session and get account information\n",
    "boto3_session = boto3.session.Session()\n",
    "region_name = boto3_session.region_name\n",
    "iam_client = boto3.client('iam')\n",
    "sts_client = boto3.client('sts')\n",
    "account_id = sts_client.get_caller_identity()['Account']\n",
    "\n",
    "# Create s3vectors client\n",
    "s3vectors = boto3.client('s3vectors', region_name=region_name)\n",
    "\n",
    "# Create bedrock agent clients with extended timeouts for long-running operations\n",
    "bedrock_config = Config(connect_timeout=120, read_timeout=120, retries={'max_attempts': 0}, region_name=region_name)\n",
    "bedrock_agent_runtime_client = boto3_session.client(\"bedrock-agent-runtime\", config=bedrock_config)\n",
    "bedrock_agent_client = bedrock = boto3.client('bedrock-agent', region_name=region_name)\n",
    "\n",
    "# Generate unique identifier for resource names to avoid conflicts\n",
    "unique_id = generate_short_code()\n",
    "\n",
    "# Define resource names with unique identifiers\n",
    "bucket_name = f\"my-data-source-{unique_id}\"\n",
    "vector_store_name = f\"my-s3-vector-store-{unique_id}\"\n",
    "vector_index_name = f\"my-s3-vector-index-{unique_id}\"\n",
    "knowledge_base_name = f\"my-10k-knowledge-base-{unique_id}\"\n",
    "\n",
    "print(f\"Using unique identifier: {unique_id}\")\n",
    "print(f\"AWS Region: {region_name}\")\n",
    "print(f\"Account ID: {account_id}\")"
   ]
  },
  {
   "cell_type": "markdown",
   "metadata": {},
   "source": [
    "## Create an Amazon S3 Vector store\n",
    "\n",
    "S3 Vector Store is a managed vector database solution directly integrated with Amazon S3.\n",
    "\n",
    "In this section, we'll create a vector bucket that will serve as our vector database. The vector bucket will store the vector embeddings of our documents, enabling semantic search capabilities."
   ]
  },
  {
   "cell_type": "code",
   "execution_count": 7,
   "metadata": {},
   "outputs": [
    {
     "name": "stderr",
     "output_type": "stream",
     "text": [
      "✅ Vector bucket 'my-s3-vector-store-f9a3' created successfully\n",
      "Vector bucket ARN: arn:aws:s3vectors:us-east-1:522814709709:bucket/my-s3-vector-store-f9a3\n",
      "✅ Vector index 'my-s3-vector-index-f9a3' created successfully\n",
      "Vector index ARN: arn:aws:s3vectors:us-east-1:522814709709:bucket/my-s3-vector-store-f9a3/index/my-s3-vector-index-f9a3\n"
     ]
    },
    {
     "name": "stdout",
     "output_type": "stream",
     "text": [
      "\n",
      "Vector index created with ARN: arn:aws:s3vectors:us-east-1:522814709709:bucket/my-s3-vector-store-f9a3/index/my-s3-vector-index-f9a3\n"
     ]
    },
    {
     "name": "stderr",
     "output_type": "stream",
     "text": [
      "Waiting for IAM role propagation (60 seconds)...\n"
     ]
    },
    {
     "name": "stdout",
     "output_type": "stream",
     "text": [
      "Created IAM role: kb_execution_role_s3_vector_f9a3\n",
      "Role ARN: arn:aws:iam::522814709709:role/kb_execution_role_s3_vector_f9a3\n"
     ]
    },
    {
     "name": "stderr",
     "output_type": "stream",
     "text": [
      "Knowledge base ID: LOHPAGKJIH\n",
      "\n",
      "Waiting for knowledge base LOHPAGKJIH to finish creating...\n",
      "Current status: CREATING (elapsed time: 0s)\n",
      "Still creating, checking again in 30 seconds...\n",
      "Current status: ACTIVE (elapsed time: 30s)\n",
      "\n",
      "✅ Knowledge base creation completed with status: ACTIVE\n"
     ]
    }
   ],
   "source": [
    "# Create the vector bucket is it does not already exist\n",
    "vector_store_arn = create_vector_bucket(vector_store_name, s3vectors)\n",
    "\n",
    "# Define the dimensionality of our embedding vectors\n",
    "# This should match the output dimension of the embedding model we'll use (Titan Embed Text v2)\n",
    "vector_dimension = 1024\n",
    "\n",
    "# Create the vector index\n",
    "vector_index_arn = create_and_get_index_arn(\n",
    "    s3vectors,\n",
    "    vector_store_name,\n",
    "    vector_index_name,\n",
    "    vector_dimension)\n",
    "\n",
    "print(f\"\\nVector index created with ARN: {vector_index_arn}\")\n",
    "\n",
    "# Create IAM role for Bedrock Knowledge Base\n",
    "create_role = create_bedrock_execution_role(unique_id, region_name, bucket_name, vector_store_name, vector_index_name, account_id)\n",
    "roleArn = create_role[\"Role\"][\"Arn\"]\n",
    "roleName = create_role[\"Role\"][\"RoleName\"]\n",
    "\n",
    "print(f\"Created IAM role: {roleName}\")\n",
    "print(f\"Role ARN: {roleArn}\")\n",
    "\n",
    "knowledge_base_id = create_knowledge_base(knowledge_base_name, bedrock_agent_client, roleArn, vector_store_name, vector_index_name )\n",
    "\n"
   ]
  },
  {
   "cell_type": "markdown",
   "metadata": {},
   "source": [
    "## Create the Data Source\n",
    "\n",
    "Now we need to create a data source that the Knowledge Base will use. The data source contains the documents that will be processed, embedded, and indexed into our vector store. \n",
    "\n",
    "We'll follow these steps:\n",
    "1. Create an S3 bucket for our documents\n",
    "2. Download 10-k reports from SEC ( optional requires SEC API Key) and upload docs into S3\n",
    "3. Create a Bedrock data source pointing to our S3 bucket"
   ]
  },
  {
   "cell_type": "markdown",
   "metadata": {},
   "source": [
    "### Creating an S3 Bucket for Data Source\n",
    "\n",
    "First, let's create the S3 Bucket that will hold our documents."
   ]
  },
  {
   "cell_type": "code",
   "execution_count": 8,
   "metadata": {},
   "outputs": [
    {
     "name": "stderr",
     "output_type": "stream",
     "text": [
      "✅ S3 bucket 'my-data-source-f9a3' created successfully\n"
     ]
    },
    {
     "data": {
      "text/plain": [
       "True"
      ]
     },
     "execution_count": 8,
     "metadata": {},
     "output_type": "execute_result"
    }
   ],
   "source": [
    "# Create an S3 bucket for our data source\n",
    "create_s3_bucket(bucket_name, region=region_name)"
   ]
  },
  {
   "cell_type": "markdown",
   "metadata": {},
   "source": [
    "### Populate S3 with 10-k Documents\n",
    "\n",
    "We are now going to download the data for our knowledge base, these will be 10-k reports from companies over the past 5 years. Do do this you will need an API key from the SEC website, you can get one by signing up free at https://sec-api.io/. \n",
    "\n",
    "Once you have your API Key replace the <API_KEY> in the sting below with your key and run the cell. "
   ]
  },
  {
   "cell_type": "code",
   "execution_count": 9,
   "metadata": {},
   "outputs": [
    {
     "name": "stderr",
     "output_type": "stream",
     "text": [
      "🚀 Starting upload of preloaded 10K documents from ./preloaded_10k\n",
      "Uploading to S3: s3://my-data-source-f9a3/10k-reports/2022/AMZN/AMZN_2022_2022-12-31_10K.html\n",
      "Successfully uploaded: 10k-reports/2022/AMZN/AMZN_2022_2022-12-31_10K.html\n",
      "Uploading to S3: s3://my-data-source-f9a3/10k-reports/2024/AMZN/AMZN_2024_2024-12-31_10K.html\n",
      "Successfully uploaded: 10k-reports/2024/AMZN/AMZN_2024_2024-12-31_10K.html\n",
      "Uploading to S3: s3://my-data-source-f9a3/10k-reports/2023/AMZN/AMZN_2023_2023-12-31_10K.html\n",
      "Successfully uploaded: 10k-reports/2023/AMZN/AMZN_2023_2023-12-31_10K.html\n",
      "Uploading to S3: s3://my-data-source-f9a3/10k-reports/2021/AMZN/AMZN_2021_2021-12-31_10K.html\n",
      "Successfully uploaded: 10k-reports/2021/AMZN/AMZN_2021_2021-12-31_10K.html\n",
      "Uploading to S3: s3://my-data-source-f9a3/10k-reports/2020/AMZN/AMZN_2020_2020-12-31_10K.html\n",
      "Successfully uploaded: 10k-reports/2020/AMZN/AMZN_2020_2020-12-31_10K.html\n",
      "✅ Upload complete! 5 companies, 5 files uploaded\n"
     ]
    }
   ],
   "source": [
    "COMPANY_SYMBOLS = [\n",
    "    # Tech companies\n",
    "    #'AAPL', 'MSFT', 'GOOGL', 'AMZN', 'TSLA', 'META', 'NVDA',\n",
    "    'AMZN'\n",
    "]\n",
    "\n",
    "#To download reports from the SEC update to true and enter API KEY from https://sec-api.io/\n",
    "download_company_10k = False\n",
    "API_KEY = \"YOUR_API_KEY\"\n",
    "\n",
    "if download_company_10k:\n",
    "    process_companies(bucket_name, COMPANY_SYMBOLS, API_KEY)\n",
    "else:\n",
    "    upload_companies(bucket_name)"
   ]
  },
  {
   "cell_type": "markdown",
   "metadata": {},
   "source": [
    "### Creating the Bedrock Data Source\n",
    "\n",
    "With our documents now stored in S3, we can create a data source in our Knowledge Base that points to this bucket. The data source configuration includes:\n",
    "\n",
    "1. The S3 bucket location\n",
    "2. Chunking strategy (how documents are split into manageable pieces)\n",
    "3. Data deletion policy\n",
    "\n",
    "The chunking strategy is particularly important as it affects how your documents are processed for retrieval:"
   ]
  },
  {
   "cell_type": "code",
   "execution_count": null,
   "metadata": {},
   "outputs": [
    {
     "ename": "ConflictException",
     "evalue": "An error occurred (ConflictException) when calling the CreateDataSource operation: DataSource with name AmazonS3DataSource already exists.",
     "output_type": "error",
     "traceback": [
      "\u001b[31m---------------------------------------------------------------------------\u001b[39m",
      "\u001b[31mConflictException\u001b[39m                         Traceback (most recent call last)",
      "\u001b[36mCell\u001b[39m\u001b[36m \u001b[39m\u001b[32mIn[11]\u001b[39m\u001b[32m, line 2\u001b[39m\n\u001b[32m      1\u001b[39m \u001b[38;5;66;03m# Create the data source\u001b[39;00m\n\u001b[32m----> \u001b[39m\u001b[32m2\u001b[39m data_source_response = \u001b[43mbedrock_agent_client\u001b[49m\u001b[43m.\u001b[49m\u001b[43mcreate_data_source\u001b[49m\u001b[43m(\u001b[49m\n\u001b[32m      3\u001b[39m \u001b[43m    \u001b[49m\u001b[43mknowledgeBaseId\u001b[49m\u001b[43m=\u001b[49m\u001b[43mknowledge_base_id\u001b[49m\u001b[43m,\u001b[49m\n\u001b[32m      4\u001b[39m \u001b[43m    \u001b[49m\u001b[43mname\u001b[49m\u001b[43m=\u001b[49m\u001b[33;43m'\u001b[39;49m\u001b[33;43mAmazonS3DataSource\u001b[39;49m\u001b[33;43m'\u001b[39;49m\u001b[43m,\u001b[49m\n\u001b[32m      5\u001b[39m \u001b[43m    \u001b[49m\u001b[43mdescription\u001b[49m\u001b[43m=\u001b[49m\u001b[33;43m'\u001b[39;49m\u001b[33;43mAmazon S3 Data Source\u001b[39;49m\u001b[33;43m'\u001b[39;49m\u001b[43m,\u001b[49m\n\u001b[32m      6\u001b[39m \u001b[43m    \u001b[49m\u001b[43mdataDeletionPolicy\u001b[49m\u001b[43m=\u001b[49m\u001b[33;43m'\u001b[39;49m\u001b[33;43mDELETE\u001b[39;49m\u001b[33;43m'\u001b[39;49m\u001b[43m,\u001b[49m\u001b[43m  \u001b[49m\u001b[38;5;66;43;03m# When data source is deleted, also delete the data\u001b[39;49;00m\n\u001b[32m      7\u001b[39m \u001b[43m    \u001b[49m\u001b[43mdataSourceConfiguration\u001b[49m\u001b[43m=\u001b[49m\u001b[43m{\u001b[49m\n\u001b[32m      8\u001b[39m \u001b[43m        \u001b[49m\u001b[33;43m'\u001b[39;49m\u001b[33;43mtype\u001b[39;49m\u001b[33;43m'\u001b[39;49m\u001b[43m:\u001b[49m\u001b[43m \u001b[49m\u001b[33;43m'\u001b[39;49m\u001b[33;43mS3\u001b[39;49m\u001b[33;43m'\u001b[39;49m\u001b[43m,\u001b[49m\n\u001b[32m      9\u001b[39m \u001b[43m        \u001b[49m\u001b[33;43m'\u001b[39;49m\u001b[33;43ms3Configuration\u001b[39;49m\u001b[33;43m'\u001b[39;49m\u001b[43m:\u001b[49m\u001b[43m \u001b[49m\u001b[43m{\u001b[49m\n\u001b[32m     10\u001b[39m \u001b[43m            \u001b[49m\u001b[33;43m'\u001b[39;49m\u001b[33;43mbucketArn\u001b[39;49m\u001b[33;43m'\u001b[39;49m\u001b[43m:\u001b[49m\u001b[43m \u001b[49m\u001b[33;43mf\u001b[39;49m\u001b[33;43m'\u001b[39;49m\u001b[33;43marn:aws:s3:::\u001b[39;49m\u001b[38;5;132;43;01m{\u001b[39;49;00m\u001b[43mbucket_name\u001b[49m\u001b[38;5;132;43;01m}\u001b[39;49;00m\u001b[33;43m'\u001b[39;49m\u001b[43m,\u001b[49m\n\u001b[32m     11\u001b[39m \u001b[43m        \u001b[49m\u001b[43m}\u001b[49m\u001b[43m,\u001b[49m\n\u001b[32m     12\u001b[39m \u001b[43m    \u001b[49m\u001b[43m}\u001b[49m\u001b[43m,\u001b[49m\n\u001b[32m     13\u001b[39m \u001b[43m    \u001b[49m\u001b[43mvectorIngestionConfiguration\u001b[49m\u001b[43m=\u001b[49m\u001b[43m{\u001b[49m\n\u001b[32m     14\u001b[39m \u001b[43m        \u001b[49m\u001b[33;43m'\u001b[39;49m\u001b[33;43mchunkingConfiguration\u001b[39;49m\u001b[33;43m'\u001b[39;49m\u001b[43m:\u001b[49m\u001b[43m \u001b[49m\u001b[43m{\u001b[49m\n\u001b[32m     15\u001b[39m \u001b[43m            \u001b[49m\u001b[33;43m'\u001b[39;49m\u001b[33;43mchunkingStrategy\u001b[39;49m\u001b[33;43m'\u001b[39;49m\u001b[43m:\u001b[49m\u001b[43m \u001b[49m\u001b[33;43m'\u001b[39;49m\u001b[33;43mFIXED_SIZE\u001b[39;49m\u001b[33;43m'\u001b[39;49m\u001b[43m,\u001b[49m\u001b[43m  \u001b[49m\u001b[38;5;66;43;03m# Split documents into chunks of fixed size\u001b[39;49;00m\n\u001b[32m     16\u001b[39m \u001b[43m            \u001b[49m\u001b[33;43m'\u001b[39;49m\u001b[33;43mfixedSizeChunkingConfiguration\u001b[39;49m\u001b[33;43m'\u001b[39;49m\u001b[43m:\u001b[49m\u001b[43m \u001b[49m\u001b[43m{\u001b[49m\n\u001b[32m     17\u001b[39m \u001b[43m                \u001b[49m\u001b[33;43m\"\u001b[39;49m\u001b[33;43mmaxTokens\u001b[39;49m\u001b[33;43m\"\u001b[39;49m\u001b[43m:\u001b[49m\u001b[43m \u001b[49m\u001b[32;43m300\u001b[39;49m\u001b[43m,\u001b[49m\u001b[43m           \u001b[49m\u001b[38;5;66;43;03m# Maximum tokens per chunk\u001b[39;49;00m\n\u001b[32m     18\u001b[39m \u001b[43m                \u001b[49m\u001b[33;43m\"\u001b[39;49m\u001b[33;43moverlapPercentage\u001b[39;49m\u001b[33;43m\"\u001b[39;49m\u001b[43m:\u001b[49m\u001b[43m \u001b[49m\u001b[32;43m20\u001b[39;49m\u001b[43m     \u001b[49m\u001b[38;5;66;43;03m# Overlap between chunks to maintain context\u001b[39;49;00m\n\u001b[32m     19\u001b[39m \u001b[43m            \u001b[49m\u001b[43m}\u001b[49m\n\u001b[32m     20\u001b[39m \u001b[43m        \u001b[49m\u001b[43m}\u001b[49m\n\u001b[32m     21\u001b[39m \u001b[43m    \u001b[49m\u001b[43m}\u001b[49m\n\u001b[32m     22\u001b[39m \u001b[43m)\u001b[49m\n\u001b[32m     24\u001b[39m \u001b[38;5;66;03m# Extract the data source ID\u001b[39;00m\n\u001b[32m     25\u001b[39m datasource_id = data_source_response[\u001b[33m\"\u001b[39m\u001b[33mdataSource\u001b[39m\u001b[33m\"\u001b[39m][\u001b[33m\"\u001b[39m\u001b[33mdataSourceId\u001b[39m\u001b[33m\"\u001b[39m]\n",
      "\u001b[36mFile \u001b[39m\u001b[32m~/Projects/10k-Evaluations/.venv/lib/python3.13/site-packages/botocore/client.py:602\u001b[39m, in \u001b[36mClientCreator._create_api_method.<locals>._api_call\u001b[39m\u001b[34m(self, *args, **kwargs)\u001b[39m\n\u001b[32m    598\u001b[39m     \u001b[38;5;28;01mraise\u001b[39;00m \u001b[38;5;167;01mTypeError\u001b[39;00m(\n\u001b[32m    599\u001b[39m         \u001b[33mf\u001b[39m\u001b[33m\"\u001b[39m\u001b[38;5;132;01m{\u001b[39;00mpy_operation_name\u001b[38;5;132;01m}\u001b[39;00m\u001b[33m() only accepts keyword arguments.\u001b[39m\u001b[33m\"\u001b[39m\n\u001b[32m    600\u001b[39m     )\n\u001b[32m    601\u001b[39m \u001b[38;5;66;03m# The \"self\" in this scope is referring to the BaseClient.\u001b[39;00m\n\u001b[32m--> \u001b[39m\u001b[32m602\u001b[39m \u001b[38;5;28;01mreturn\u001b[39;00m \u001b[38;5;28;43mself\u001b[39;49m\u001b[43m.\u001b[49m\u001b[43m_make_api_call\u001b[49m\u001b[43m(\u001b[49m\u001b[43moperation_name\u001b[49m\u001b[43m,\u001b[49m\u001b[43m \u001b[49m\u001b[43mkwargs\u001b[49m\u001b[43m)\u001b[49m\n",
      "\u001b[36mFile \u001b[39m\u001b[32m~/Projects/10k-Evaluations/.venv/lib/python3.13/site-packages/botocore/context.py:123\u001b[39m, in \u001b[36mwith_current_context.<locals>.decorator.<locals>.wrapper\u001b[39m\u001b[34m(*args, **kwargs)\u001b[39m\n\u001b[32m    121\u001b[39m \u001b[38;5;28;01mif\u001b[39;00m hook:\n\u001b[32m    122\u001b[39m     hook()\n\u001b[32m--> \u001b[39m\u001b[32m123\u001b[39m \u001b[38;5;28;01mreturn\u001b[39;00m \u001b[43mfunc\u001b[49m\u001b[43m(\u001b[49m\u001b[43m*\u001b[49m\u001b[43margs\u001b[49m\u001b[43m,\u001b[49m\u001b[43m \u001b[49m\u001b[43m*\u001b[49m\u001b[43m*\u001b[49m\u001b[43mkwargs\u001b[49m\u001b[43m)\u001b[49m\n",
      "\u001b[36mFile \u001b[39m\u001b[32m~/Projects/10k-Evaluations/.venv/lib/python3.13/site-packages/botocore/client.py:1078\u001b[39m, in \u001b[36mBaseClient._make_api_call\u001b[39m\u001b[34m(self, operation_name, api_params)\u001b[39m\n\u001b[32m   1074\u001b[39m     error_code = request_context.get(\n\u001b[32m   1075\u001b[39m         \u001b[33m'\u001b[39m\u001b[33merror_code_override\u001b[39m\u001b[33m'\u001b[39m\n\u001b[32m   1076\u001b[39m     ) \u001b[38;5;129;01mor\u001b[39;00m error_info.get(\u001b[33m\"\u001b[39m\u001b[33mCode\u001b[39m\u001b[33m\"\u001b[39m)\n\u001b[32m   1077\u001b[39m     error_class = \u001b[38;5;28mself\u001b[39m.exceptions.from_code(error_code)\n\u001b[32m-> \u001b[39m\u001b[32m1078\u001b[39m     \u001b[38;5;28;01mraise\u001b[39;00m error_class(parsed_response, operation_name)\n\u001b[32m   1079\u001b[39m \u001b[38;5;28;01melse\u001b[39;00m:\n\u001b[32m   1080\u001b[39m     \u001b[38;5;28;01mreturn\u001b[39;00m parsed_response\n",
      "\u001b[31mConflictException\u001b[39m: An error occurred (ConflictException) when calling the CreateDataSource operation: DataSource with name AmazonS3DataSource already exists."
     ]
    }
   ],
   "source": [
    "# Create the data source\n",
    "data_source_response = bedrock_agent_client.create_data_source(\n",
    "    knowledgeBaseId=knowledge_base_id,\n",
    "    name=f'DataSource-{bucket_name}',\n",
    "    description='Amazon S3 Data Source',\n",
    "    dataDeletionPolicy='DELETE',  # When data source is deleted, also delete the data\n",
    "    dataSourceConfiguration={\n",
    "        'type': 'S3',\n",
    "        's3Configuration': {\n",
    "            'bucketArn': f'arn:aws:s3:::{bucket_name}',\n",
    "        },\n",
    "    },\n",
    "    vectorIngestionConfiguration={\n",
    "        'chunkingConfiguration': {\n",
    "            'chunkingStrategy': 'FIXED_SIZE',  # Split documents into chunks of fixed size\n",
    "            'fixedSizeChunkingConfiguration': {\n",
    "                \"maxTokens\": 300,           # Maximum tokens per chunk\n",
    "                \"overlapPercentage\": 20     # Overlap between chunks to maintain context\n",
    "            }\n",
    "        }\n",
    "    }\n",
    ")\n",
    "\n",
    "# Extract the data source ID\n",
    "datasource_id = data_source_response[\"dataSource\"][\"dataSourceId\"]\n",
    "print(f\"✅ Data source created with ID: {datasource_id}\")\n"
   ]
  },
  {
   "cell_type": "markdown",
   "metadata": {},
   "source": [
    "## Sync the data source\n",
    "\n",
    "Now that we have created the data source, we need to start the ingestion job that will:\n",
    "\n",
    "1. Read documents from our S3 bucket\n",
    "2. Chunk them according to our configuration\n",
    "3. Generate embeddings for each chunk using the Titan Embed model\n",
    "4. Store both the embeddings and text in our S3 Vector Store\n",
    "\n",
    "This process may take several minutes depending on the size of your data."
   ]
  },
  {
   "cell_type": "code",
   "execution_count": null,
   "metadata": {},
   "outputs": [],
   "source": [
    "# Start the ingestion job\n",
    "response_ingestion = bedrock.start_ingestion_job(\n",
    "    dataSourceId=datasource_id,\n",
    "    description='First sync',\n",
    "    knowledgeBaseId=knowledge_base_id\n",
    ")\n",
    "\n",
    "print(f\"Started ingestion job: {response_ingestion['ingestionJob']['ingestionJobId']}\")\n",
    "\n",
    "# Monitor the ingestion job progress\n",
    "status = \"STARTING\"\n",
    "ingestion_job_id = response_ingestion['ingestionJob']['ingestionJobId']\n",
    "start_time = time.time()\n",
    "\n",
    "print(\"Monitoring ingestion job progress:\")\n",
    "print(\"-\" * 50)\n",
    "\n",
    "while status in [\"STARTING\", \"IN_PROGRESS\"]:\n",
    "    # Get current status\n",
    "    response = bedrock.get_ingestion_job(\n",
    "        dataSourceId=datasource_id,\n",
    "        knowledgeBaseId=knowledge_base_id,\n",
    "        ingestionJobId=ingestion_job_id\n",
    "    )\n",
    "    \n",
    "    status = response['ingestionJob']['status']\n",
    "    elapsed_time = int(time.time() - start_time)\n",
    "    \n",
    "    # Get current statistics\n",
    "    stats = response['ingestionJob']['statistics']\n",
    "    \n",
    "    # Clear previous output and print updated status\n",
    "    print(f\"Status: {status} (elapsed time: {elapsed_time}s)\")\n",
    "    print(f\"Documents scanned: {stats['numberOfDocumentsScanned']}\")\n",
    "    print(f\"Documents indexed: {stats['numberOfNewDocumentsIndexed']}\")\n",
    "    print(f\"Documents failed: {stats['numberOfDocumentsFailed']}\")\n",
    "    \n",
    "    if status in [\"STARTING\", \"IN_PROGRESS\"]:\n",
    "        print(\"Checking again in 30 seconds...\\n\")\n",
    "        time.sleep(30)\n",
    "    else:\n",
    "        break\n",
    "\n",
    "print(\"-\" * 50)\n",
    "if status == \"COMPLETE\":\n",
    "    print(f\"✅ Ingestion job completed successfully\")\n",
    "else:\n",
    "    print(f\"⚠️ Ingestion job ended with status: {status}\")\n",
    "    \n",
    "# Print final statistics\n",
    "print(f\"\\nFinal statistics:\")\n",
    "print(f\"  • Documents scanned: {stats['numberOfDocumentsScanned']}\")\n",
    "print(f\"  • Documents indexed: {stats['numberOfNewDocumentsIndexed']}\")\n",
    "print(f\"  • Documents failed: {stats['numberOfDocumentsFailed']}\")\n",
    "print(f\"  • Total elapsed time: {elapsed_time} seconds\")"
   ]
  },
  {
   "cell_type": "markdown",
   "metadata": {},
   "source": [
    "## Clean up!"
   ]
  },
  {
   "cell_type": "code",
   "execution_count": null,
   "metadata": {},
   "outputs": [],
   "source": [
    "print(\"Starting cleanup process...\\n\")\n",
    "\n",
    "#Uncomment line below and re-run to clean resources. \n",
    "#clean_resources = True\n",
    "\n",
    "if clean_resources:\n",
    "    # Delete Knowledge Base\n",
    "    try:\n",
    "        print(f\"Deleting Knowledge Base: {knowledge_base_id}\")\n",
    "        bedrock.delete_knowledge_base(knowledgeBaseId=knowledge_base_id)\n",
    "        print(\"✅ Knowledge Base deleted successfully\")\n",
    "    except Exception as e:\n",
    "        print(f\"❌ Error deleting Knowledge Base: {str(e)}\")\n",
    "\n",
    "    # Delete S3 Vector Store policy\n",
    "    print(f\"\\nDeleting S3 Vector Store: {vector_store_name}\")\n",
    "    try:\n",
    "        s3vectors.delete_vector_bucket_policy(vectorBucketName=vector_store_name)\n",
    "        print(\"✅ S3 Vector Store policy deleted successfully\")\n",
    "    except Exception as e:\n",
    "        print(f\"❌ Error deleting Vector Store policy: {str(e)}\")\n",
    "\n",
    "    # Delete S3 Vector Store index\n",
    "    print(f\"\\nDeleting S3 Vector Index: {vector_index_name}\")\n",
    "    try:\n",
    "        s3vectors.delete_index(indexArn=vector_index_arn)\n",
    "        print(\"✅ S3 Vector Store Index deleted successfully\")\n",
    "    except Exception as e:\n",
    "        print(f\"❌ Error deleting Vector Store Index: {str(e)}\")\n",
    "\n",
    "    # Delete S3 Vector Store \n",
    "    print(f\"\\nDeleting S3 Vector Store: {vector_store_name}\")\n",
    "    try:\n",
    "        print(f\"\\nDeleting S3 Vector Store: {vector_store_name}\")\n",
    "        print(\"✅ S3 Vector Store deleted successfully\")\n",
    "    except Exception as e:\n",
    "        print(f\"❌ Error deleting Vector policy: {str(e)}\")\n",
    "\n",
    "    # Empty and delete S3 Bucket\n",
    "    print(f\"\\nEmptying and deleting S3 Bucket: {vector_store_name}\")\n",
    "    try:\n",
    "        s3vectors.delete_vector_bucket(vectorBucketName=vector_store_name)\n",
    "        print(\"✅ S3 Vector Bucket emptied and deleted successfully\")\n",
    "    except Exception as e:\n",
    "        print(f\"❌ Error emptying and deleting S3 Bucket: {str(e)}\")\n",
    "\n",
    "\n",
    "    # Delete IAM Role and detach policies\n",
    "    print(f\"\\nDeleting IAM Role: {roleName}\")\n",
    "    try:\n",
    "        # List and detach all attached policies\n",
    "        attached_policies = iam_client.list_attached_role_policies(RoleName=roleName).get('AttachedPolicies', [])\n",
    "        for policy in attached_policies:\n",
    "            print(f\"Detaching policy: {policy['PolicyArn']}\")\n",
    "            iam_client.detach_role_policy(RoleName=roleName, PolicyArn=policy['PolicyArn'])\n",
    "            iam_client.delete_policy(PolicyArn=policy['PolicyArn'])\n",
    "        \n",
    "        # Delete the role\n",
    "        iam_client.delete_role(RoleName=roleName)\n",
    "        print(\"✅ IAM Role deleted successfully\")\n",
    "    except Exception as e:\n",
    "        print(f\"❌ Error deleting IAM Role: {str(e)}\")\n",
    "\n",
    "\n",
    "    print(\"\\n✅ All resources have been cleaned up successfully!\")\n",
    "else:\n",
    "    print(\"Skipping cleanup process.\")"
   ]
  }
 ],
 "metadata": {
  "kernelspec": {
   "display_name": ".venv",
   "language": "python",
   "name": "python3"
  },
  "language_info": {
   "codemirror_mode": {
    "name": "ipython",
    "version": 3
   },
   "file_extension": ".py",
   "mimetype": "text/x-python",
   "name": "python",
   "nbconvert_exporter": "python",
   "pygments_lexer": "ipython3",
   "version": "3.13.7"
  }
 },
 "nbformat": 4,
 "nbformat_minor": 2
}
